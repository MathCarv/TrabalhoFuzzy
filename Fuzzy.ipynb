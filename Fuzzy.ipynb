{
 "cells": [
  {
   "cell_type": "code",
   "execution_count": 4,
   "metadata": {},
   "outputs": [
    {
     "name": "stdout",
     "output_type": "stream",
     "text": [
      "Requirement already satisfied: paho-mqtt in c:\\users\\mathe\\appdata\\local\\programs\\python\\python310\\lib\\site-packages (2.1.0)\n",
      "Requirement already satisfied: scikit-fuzzy in c:\\users\\mathe\\appdata\\local\\programs\\python\\python310\\lib\\site-packages (0.4.2)\n",
      "Collecting python-dotenv\n",
      "  Downloading python_dotenv-1.0.1-py3-none-any.whl.metadata (23 kB)\n",
      "Requirement already satisfied: numpy>=1.6.0 in c:\\users\\mathe\\appdata\\local\\programs\\python\\python310\\lib\\site-packages (from scikit-fuzzy) (1.26.4)\n",
      "Requirement already satisfied: scipy>=0.9.0 in c:\\users\\mathe\\appdata\\local\\programs\\python\\python310\\lib\\site-packages (from scikit-fuzzy) (1.13.0)\n",
      "Requirement already satisfied: networkx>=1.9.0 in c:\\users\\mathe\\appdata\\local\\programs\\python\\python310\\lib\\site-packages (from scikit-fuzzy) (3.3)\n",
      "Downloading python_dotenv-1.0.1-py3-none-any.whl (19 kB)\n",
      "Installing collected packages: python-dotenv\n",
      "Successfully installed python-dotenv-1.0.1\n",
      "Note: you may need to restart the kernel to use updated packages.\n"
     ]
    }
   ],
   "source": [
    "%pip install paho-mqtt scikit-fuzzy python-dotenv"
   ]
  },
  {
   "cell_type": "code",
   "execution_count": 15,
   "metadata": {},
   "outputs": [
    {
     "name": "stdout",
     "output_type": "stream",
     "text": [
      "Conexão estabelecida com sucesso!\n"
     ]
    },
    {
     "ename": "KeyboardInterrupt",
     "evalue": "",
     "output_type": "error",
     "traceback": [
      "\u001b[1;31m---------------------------------------------------------------------------\u001b[0m",
      "\u001b[1;31mKeyboardInterrupt\u001b[0m                         Traceback (most recent call last)",
      "Cell \u001b[1;32mIn[15], line 63\u001b[0m\n\u001b[0;32m     60\u001b[0m client\u001b[38;5;241m.\u001b[39mon_message \u001b[38;5;241m=\u001b[39m on_message\n\u001b[0;32m     61\u001b[0m client\u001b[38;5;241m.\u001b[39mon_publish \u001b[38;5;241m=\u001b[39m on_publish\n\u001b[1;32m---> 63\u001b[0m \u001b[43mclient\u001b[49m\u001b[38;5;241;43m.\u001b[39;49m\u001b[43mloop_forever\u001b[49m\u001b[43m(\u001b[49m\u001b[43m)\u001b[49m\n",
      "File \u001b[1;32mc:\\Users\\mathe\\AppData\\Local\\Programs\\Python\\Python310\\lib\\site-packages\\paho\\mqtt\\client.py:2297\u001b[0m, in \u001b[0;36mClient.loop_forever\u001b[1;34m(self, timeout, retry_first_connection)\u001b[0m\n\u001b[0;32m   2295\u001b[0m rc \u001b[38;5;241m=\u001b[39m MQTTErrorCode\u001b[38;5;241m.\u001b[39mMQTT_ERR_SUCCESS\n\u001b[0;32m   2296\u001b[0m \u001b[38;5;28;01mwhile\u001b[39;00m rc \u001b[38;5;241m==\u001b[39m MQTTErrorCode\u001b[38;5;241m.\u001b[39mMQTT_ERR_SUCCESS:\n\u001b[1;32m-> 2297\u001b[0m     rc \u001b[38;5;241m=\u001b[39m \u001b[38;5;28;43mself\u001b[39;49m\u001b[38;5;241;43m.\u001b[39;49m\u001b[43m_loop\u001b[49m\u001b[43m(\u001b[49m\u001b[43mtimeout\u001b[49m\u001b[43m)\u001b[49m\n\u001b[0;32m   2298\u001b[0m     \u001b[38;5;66;03m# We don't need to worry about locking here, because we've\u001b[39;00m\n\u001b[0;32m   2299\u001b[0m     \u001b[38;5;66;03m# either called loop_forever() when in single threaded mode, or\u001b[39;00m\n\u001b[0;32m   2300\u001b[0m     \u001b[38;5;66;03m# in multi threaded mode when loop_stop() has been called and\u001b[39;00m\n\u001b[0;32m   2301\u001b[0m     \u001b[38;5;66;03m# so no other threads can access _out_packet or _messages.\u001b[39;00m\n\u001b[0;32m   2302\u001b[0m     \u001b[38;5;28;01mif\u001b[39;00m (\u001b[38;5;28mself\u001b[39m\u001b[38;5;241m.\u001b[39m_thread_terminate \u001b[38;5;129;01mis\u001b[39;00m \u001b[38;5;28;01mTrue\u001b[39;00m\n\u001b[0;32m   2303\u001b[0m         \u001b[38;5;129;01mand\u001b[39;00m \u001b[38;5;28mlen\u001b[39m(\u001b[38;5;28mself\u001b[39m\u001b[38;5;241m.\u001b[39m_out_packet) \u001b[38;5;241m==\u001b[39m \u001b[38;5;241m0\u001b[39m\n\u001b[0;32m   2304\u001b[0m             \u001b[38;5;129;01mand\u001b[39;00m \u001b[38;5;28mlen\u001b[39m(\u001b[38;5;28mself\u001b[39m\u001b[38;5;241m.\u001b[39m_out_messages) \u001b[38;5;241m==\u001b[39m \u001b[38;5;241m0\u001b[39m):\n",
      "File \u001b[1;32mc:\\Users\\mathe\\AppData\\Local\\Programs\\Python\\Python310\\lib\\site-packages\\paho\\mqtt\\client.py:1663\u001b[0m, in \u001b[0;36mClient._loop\u001b[1;34m(self, timeout)\u001b[0m\n\u001b[0;32m   1660\u001b[0m     rlist \u001b[38;5;241m=\u001b[39m [\u001b[38;5;28mself\u001b[39m\u001b[38;5;241m.\u001b[39m_sock, \u001b[38;5;28mself\u001b[39m\u001b[38;5;241m.\u001b[39m_sockpairR]\n\u001b[0;32m   1662\u001b[0m \u001b[38;5;28;01mtry\u001b[39;00m:\n\u001b[1;32m-> 1663\u001b[0m     socklist \u001b[38;5;241m=\u001b[39m \u001b[43mselect\u001b[49m\u001b[38;5;241;43m.\u001b[39;49m\u001b[43mselect\u001b[49m\u001b[43m(\u001b[49m\u001b[43mrlist\u001b[49m\u001b[43m,\u001b[49m\u001b[43m \u001b[49m\u001b[43mwlist\u001b[49m\u001b[43m,\u001b[49m\u001b[43m \u001b[49m\u001b[43m[\u001b[49m\u001b[43m]\u001b[49m\u001b[43m,\u001b[49m\u001b[43m \u001b[49m\u001b[43mtimeout\u001b[49m\u001b[43m)\u001b[49m\n\u001b[0;32m   1664\u001b[0m \u001b[38;5;28;01mexcept\u001b[39;00m \u001b[38;5;167;01mTypeError\u001b[39;00m:\n\u001b[0;32m   1665\u001b[0m     \u001b[38;5;66;03m# Socket isn't correct type, in likelihood connection is lost\u001b[39;00m\n\u001b[0;32m   1666\u001b[0m     \u001b[38;5;66;03m# ... or we called disconnect(). In that case the socket will\u001b[39;00m\n\u001b[1;32m   (...)\u001b[0m\n\u001b[0;32m   1669\u001b[0m     \u001b[38;5;66;03m# rc != MQTT_ERR_SUCCESS and we don't want state to change from\u001b[39;00m\n\u001b[0;32m   1670\u001b[0m     \u001b[38;5;66;03m# mqtt_cs_disconnecting.\u001b[39;00m\n\u001b[0;32m   1671\u001b[0m     \u001b[38;5;28;01mif\u001b[39;00m \u001b[38;5;28mself\u001b[39m\u001b[38;5;241m.\u001b[39m_state \u001b[38;5;129;01mnot\u001b[39;00m \u001b[38;5;129;01min\u001b[39;00m (_ConnectionState\u001b[38;5;241m.\u001b[39mMQTT_CS_DISCONNECTING, _ConnectionState\u001b[38;5;241m.\u001b[39mMQTT_CS_DISCONNECTED):\n",
      "\u001b[1;31mKeyboardInterrupt\u001b[0m: "
     ]
    }
   ],
   "source": [
    "import os\n",
    "from dotenv import load_dotenv\n",
    "import numpy as np\n",
    "import skfuzzy as fuzz\n",
    "import time\n",
    "import paho.mqtt.client as paho\n",
    "from paho import mqtt\n",
    "\n",
    "# Especificar o caminho do arquivo .env\n",
    "dotenv_path = 'Variables.env'\n",
    "if not os.path.exists(dotenv_path):\n",
    "    raise FileNotFoundError(f\"Arquivo {dotenv_path} não encontrado.\")\n",
    "\n",
    "load_dotenv(dotenv_path)\n",
    "\n",
    "# Obter as variáveis de ambiente - Segurança adicional para evitar o vazamento das credenciais em texto claro\n",
    "mqtt_username = os.getenv('MQTT_USERNAME')\n",
    "mqtt_password = os.getenv('MQTT_PASSWORD')\n",
    "mqtt_url = os.getenv('MQTT_URL')\n",
    "mqtt_port = os.getenv('MQTT_PORT')\n",
    "\n",
    "# Verificar se todas as variáveis de ambiente foram carregadas corretamente\n",
    "if not all([mqtt_username, mqtt_password, mqtt_url, mqtt_port]):\n",
    "    raise ValueError(\"Uma ou mais variáveis de ambiente não foram carregadas corretamente.\")\n",
    "\n",
    "mqtt_port = int(mqtt_port)  # Converter para inteiro\n",
    "\n",
    "# Definindo callbacks para diferentes eventos para ver se funciona, imprimir a mensagem etc.\n",
    "def on_connect(client, userdata, flags, rc, properties=None):\n",
    "    if rc == 0:\n",
    "        print(\"Conexão estabelecida com sucesso!\")\n",
    "    else:\n",
    "        print(\"CONNACK received with code %s.\" % rc)\n",
    "\n",
    "# Com este callback você pode ver se sua publicação foi bem-sucedida\n",
    "def on_publish(client, userdata, mid, properties=None):\n",
    "    print(\"mid: \" + str(mid))\n",
    "\n",
    "# Imprimir qual tópico foi inscrito\n",
    "def on_subscribe(client, userdata, mid, granted_qos, properties=None):\n",
    "    print(\"Subscribed: \" + str(mid) + \" \" + str(granted_qos))\n",
    "\n",
    "# Imprimir mensagem, útil para verificar se foi bem-sucedido\n",
    "def on_message(client, userdata, msg):\n",
    "    print(msg.topic + \" \" + str(msg.qos) + \" \" + str(msg.payload))\n",
    "\n",
    "client = paho.Client(paho.CallbackAPIVersion.VERSION2, client_id=\"\", userdata=None, protocol=paho.MQTTv5)\n",
    "client.on_connect = on_connect  \n",
    "\n",
    "# Habilita o TLS para uma conexão segura (diferencial) \n",
    "client.tls_set(tls_version=mqtt.client.ssl.PROTOCOL_TLS)\n",
    "\n",
    "# Configurar nome de usuário e senha\n",
    "client.username_pw_set(mqtt_username, mqtt_password)\n",
    "# Conectar ao HiveMQ Cloud na porta especificada\n",
    "client.connect(mqtt_url, mqtt_port)\n",
    "\n",
    "# Configurar callbacks\n",
    "client.on_subscribe = on_subscribe\n",
    "client.on_message = on_message\n",
    "client.on_publish = on_publish\n",
    "\n",
    "client.loop_forever()"
   ]
  }
 ],
 "metadata": {
  "kernelspec": {
   "display_name": "Python 3",
   "language": "python",
   "name": "python3"
  },
  "language_info": {
   "codemirror_mode": {
    "name": "ipython",
    "version": 3
   },
   "file_extension": ".py",
   "mimetype": "text/x-python",
   "name": "python",
   "nbconvert_exporter": "python",
   "pygments_lexer": "ipython3",
   "version": "3.10.0"
  }
 },
 "nbformat": 4,
 "nbformat_minor": 2
}
