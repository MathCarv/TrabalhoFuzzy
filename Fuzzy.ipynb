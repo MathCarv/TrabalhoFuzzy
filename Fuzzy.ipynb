{
 "cells": [
  {
   "cell_type": "code",
   "execution_count": 2,
   "metadata": {},
   "outputs": [
    {
     "name": "stdout",
     "output_type": "stream",
     "text": [
      "Requirement already satisfied: paho-mqtt in c:\\users\\mathe\\appdata\\local\\programs\\python\\python310\\lib\\site-packages (2.1.0)\n",
      "Note: you may need to restart the kernel to use updated packages.\n"
     ]
    }
   ],
   "source": [
    "%pip install paho-mqtt"
   ]
  },
  {
   "cell_type": "code",
   "execution_count": 7,
   "metadata": {},
   "outputs": [
    {
     "name": "stdout",
     "output_type": "stream",
     "text": [
      "Defaulting to user installation because normal site-packages is not writeable\n",
      "Requirement already satisfied: scikit-fuzzy in /home/matheus/.local/lib/python3.10/site-packages (0.4.2)\n",
      "Requirement already satisfied: numpy>=1.6.0 in /home/matheus/.local/lib/python3.10/site-packages (from scikit-fuzzy) (1.26.4)\n",
      "Requirement already satisfied: networkx>=1.9.0 in /home/matheus/.local/lib/python3.10/site-packages (from scikit-fuzzy) (3.3)\n",
      "Requirement already satisfied: scipy>=0.9.0 in /home/matheus/.local/lib/python3.10/site-packages (from scikit-fuzzy) (1.13.0)\n",
      "Note: you may need to restart the kernel to use updated packages.\n"
     ]
    }
   ],
   "source": [
    "%pip install scikit-fuzzy"
   ]
  },
  {
   "cell_type": "code",
   "execution_count": 34,
   "metadata": {},
   "outputs": [],
   "source": [
    "import numpy as np\n",
    "import skfuzzy as fuzz\n",
    "import time\n",
    "import paho.mqtt.client as paho\n",
    "from paho import mqtt\n",
    "\n",
    "# Definindo callbacks para diferentes eventos para ver se funciona, imprimir a mensagem etc.\n",
    "def on_connect(client, userdata, flags, rc, properties=None):\n",
    "    if rc == 0:\n",
    "        print(\"Conexão estabelecida com sucesso!\")\n",
    "    else:\n",
    "        print(\"CONNACK received with code %s.\" % rc)\n",
    "\n",
    "# Com este callback você pode ver se sua publicação foi bem-sucedida\n",
    "def on_publish(client, userdata, mid, properties=None):\n",
    "    print(\"mid: \" + str(mid))\n",
    "\n",
    "# Imprimir qual tópico foi inscrito\n",
    "def on_subscribe(client, userdata, mid, granted_qos, properties=None):\n",
    "    print(\"Subscribed: \" + str(mid) + \" \" + str(granted_qos))\n",
    "\n",
    "# Imprimir mensagem, útil para verificar se foi bem-sucedido\n",
    "def on_message(client, userdata, msg):\n",
    "    print(msg.topic + \" \" + str(msg.qos) + \" \" + str(msg.payload))\n",
    "\n",
    "client = paho.Client(paho.CallbackAPIVersion.VERSION2,client_id=\"\", userdata=None, protocol=paho.MQTTv5)\n",
    "client.on_connect = on_connect  \n",
    "\n",
    "# enable TLS for secure connection\n",
    "client.tls_set(tls_version=mqtt.client.ssl.PROTOCOL_TLS)\n",
    "# set username and password\n",
    "client.username_pw_set(\"Fuzzy\", \"Fuzzy2024*\")\n",
    "# connect to HiveMQ Cloud on port 8883 (default for MQTT)\n",
    "client.connect(\"42dae1b75bcb44e5bbb827ba6fc60850.s1.eu.hivemq.cloud\", 8883)\n",
    "\n",
    "# setting callbacks, use separate functions like above for better visibility\n",
    "client.on_subscribe = on_subscribe\n",
    "client.on_message = on_message\n",
    "client.on_publish = on_publish"
   ]
  }
 ],
 "metadata": {
  "kernelspec": {
   "display_name": "Python 3",
   "language": "python",
   "name": "python3"
  },
  "language_info": {
   "codemirror_mode": {
    "name": "ipython",
    "version": 3
   },
   "file_extension": ".py",
   "mimetype": "text/x-python",
   "name": "python",
   "nbconvert_exporter": "python",
   "pygments_lexer": "ipython3",
   "version": "3.10.0"
  }
 },
 "nbformat": 4,
 "nbformat_minor": 2
}
